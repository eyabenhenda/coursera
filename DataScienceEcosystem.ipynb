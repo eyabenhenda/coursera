{
  "nbformat": 4,
  "nbformat_minor": 0,
  "metadata": {
    "colab": {
      "provenance": []
    },
    "kernelspec": {
      "name": "python3",
      "display_name": "Python 3"
    },
    "language_info": {
      "name": "python"
    }
  },
  "cells": [
    {
      "cell_type": "markdown",
      "source": [
        "<H1> Data Science Tools and Ecosystem"
      ],
      "metadata": {
        "id": "YtK4Y_UCJMoH"
      }
    },
    {
      "cell_type": "markdown",
      "source": [
        "In this notebook, Data Science Tools and Ecosystem are summarized."
      ],
      "metadata": {
        "id": "51UfVMqiJkF6"
      }
    },
    {
      "cell_type": "markdown",
      "source": [
        "**Objectives:**\n",
        "\n",
        "- List popular languages for Data Science.\n",
        "- Identify commonly used libraries in data science.\n",
        "- Introduce data science development environment tools.\n",
        "- convert 200 minutes to hours\n"
      ],
      "metadata": {
        "id": "VojoiA6hNg0o"
      }
    },
    {
      "cell_type": "markdown",
      "source": [
        "Some of the popular languages that Data Scientists use are:\n",
        "\n",
        "1. **Python**\n",
        "2. **R**\n",
        "\n",
        "3. **Julia**\n",
        "4.**Scala**\n",
        "\n"
      ],
      "metadata": {
        "id": "iuP7ltDnKb6i"
      }
    },
    {
      "cell_type": "markdown",
      "source": [
        "Some of the commonly used libraries by Data Scientists include:\n",
        "\n",
        "1. **NumPy**\n",
        "\n",
        "2. **Pandas**\n",
        "3. **scikit-learn**\n",
        "\n",
        "4. **Matplotlib**\n",
        "\n",
        "5. **Seaborn**"
      ],
      "metadata": {
        "id": "j_XvBrJbLAnd"
      }
    },
    {
      "cell_type": "markdown",
      "source": [
        "| Data Science Tools      |\n",
        "|-------------------------|\n",
        "| Jupyter Notebooks       |\n",
        "| RStudio                 |\n",
        "| VS Code with Python     |\n"
      ],
      "metadata": {
        "id": "drSQZYFmLtE_"
      }
    },
    {
      "cell_type": "markdown",
      "source": [
        "<H3> Below are a few examples of evaluating arithmetic expressions in Python"
      ],
      "metadata": {
        "id": "x13RGfBCMCga"
      }
    },
    {
      "cell_type": "code",
      "source": [
        "#This a simple arithmetic expression to mutiply then add integers\n",
        "x=(3*4)+5\n",
        "print(x)"
      ],
      "metadata": {
        "colab": {
          "base_uri": "https://localhost:8080/"
        },
        "id": "YL_u4sp8MS_U",
        "outputId": "8b0e6192-0091-44e3-93fb-7929ecca7548"
      },
      "execution_count": 4,
      "outputs": [
        {
          "output_type": "stream",
          "name": "stdout",
          "text": [
            "17\n"
          ]
        }
      ]
    },
    {
      "cell_type": "code",
      "source": [
        "#This will convert 200 minutes to hours by diving by 60\n",
        "h=200/60\n",
        "h"
      ],
      "metadata": {
        "colab": {
          "base_uri": "https://localhost:8080/"
        },
        "id": "o4v-7rK9MaWx",
        "outputId": "65c73a74-4fdf-496b-dbe3-83079feae179"
      },
      "execution_count": 6,
      "outputs": [
        {
          "output_type": "execute_result",
          "data": {
            "text/plain": [
              "3.3333333333333335"
            ]
          },
          "metadata": {},
          "execution_count": 6
        }
      ]
    },
    {
      "cell_type": "code",
      "source": [],
      "metadata": {
        "id": "MzfS0VRCM3jD"
      },
      "execution_count": null,
      "outputs": []
    }
  ]
}